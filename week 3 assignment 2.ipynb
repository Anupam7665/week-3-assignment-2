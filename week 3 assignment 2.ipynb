{
 "cells": [
  {
   "cell_type": "markdown",
   "id": "e74ea45d-6f94-4dbc-9fe4-74349aa6037d",
   "metadata": {},
   "source": [
    "### Q1. Create a python program to sort the given list of tuples based on integer value using a lambda function.\n",
    "[('Sachin Tendulkar', 34357), ('Ricky Ponting', 27483), ('Jack Kallis', 25534), ('Virat Kohli', 24936)]"
   ]
  },
  {
   "cell_type": "code",
   "execution_count": 94,
   "id": "3c6f9e76-869c-47df-8acb-e2afce014bf8",
   "metadata": {},
   "outputs": [],
   "source": [
    "a=[('Sachin Tendulkar', 34357), ('Ricky Ponting', 27483), ('Jack Kallis', 25534), ('Virat Kohli', 24936)]"
   ]
  },
  {
   "cell_type": "code",
   "execution_count": 95,
   "id": "060d5c94-73f3-4ca0-9c78-9faf232a294e",
   "metadata": {},
   "outputs": [],
   "source": [
    "sorted(key=lambda x:x[1])"
   ]
  },
  {
   "cell_type": "raw",
   "id": "8b9341be-3c6c-45c5-9a4e-70ad568cb9da",
   "metadata": {},
   "source": [
    "print (a)"
   ]
  },
  {
   "cell_type": "markdown",
   "id": "41389dcc-b7ac-4cf9-b20f-485e1d388cc3",
   "metadata": {},
   "source": [
    "#### Q2. Write a Python Program to find the squares of all the numbers in the given list of integers using lambda and map functions.\n",
    "[1, 2, 3, 4, 5, 6, 7, 8, 9, 10]"
   ]
  },
  {
   "cell_type": "code",
   "execution_count": 6,
   "id": "3cc26065-90ee-4555-b14c-e399717df113",
   "metadata": {},
   "outputs": [],
   "source": [
    "nums = [1, 2, 3, 4, 5, 6, 7, 8, 9, 10]"
   ]
  },
  {
   "cell_type": "code",
   "execution_count": 7,
   "id": "7c0f5862-5140-4a05-8ad2-7c077429f39c",
   "metadata": {},
   "outputs": [],
   "source": [
    "square = lambda x: x**2"
   ]
  },
  {
   "cell_type": "code",
   "execution_count": 8,
   "id": "fe92b91e-b04c-47f1-b15f-8fa5431196a0",
   "metadata": {},
   "outputs": [],
   "source": [
    "squares = list(map(square, nums))"
   ]
  },
  {
   "cell_type": "code",
   "execution_count": 9,
   "id": "2e524087-e14b-4536-9361-139f4f7cef91",
   "metadata": {},
   "outputs": [
    {
     "name": "stdout",
     "output_type": "stream",
     "text": [
      "[1, 4, 9, 16, 25, 36, 49, 64, 81, 100]\n"
     ]
    }
   ],
   "source": [
    "print(squares)"
   ]
  },
  {
   "cell_type": "markdown",
   "id": "262626a4-aa76-439f-8204-d0761217592f",
   "metadata": {},
   "source": [
    "### Q4. Write a python program using reduce function to compute the product of a list containing numbers from 1 to 25."
   ]
  },
  {
   "cell_type": "code",
   "execution_count": 51,
   "id": "f64850df-c556-4210-b96f-822392c70c5f",
   "metadata": {},
   "outputs": [],
   "source": [
    "from functools import reduce"
   ]
  },
  {
   "cell_type": "code",
   "execution_count": 52,
   "id": "9dba2663-a82c-4255-b1fc-755b70d38e76",
   "metadata": {},
   "outputs": [],
   "source": [
    "num=list(range(1,26))"
   ]
  },
  {
   "cell_type": "code",
   "execution_count": 53,
   "id": "cbaa395b-98fb-4ca9-9b42-fd067f3155f9",
   "metadata": {},
   "outputs": [],
   "source": [
    "def multiply(x,y):\n",
    "    return x*y"
   ]
  },
  {
   "cell_type": "code",
   "execution_count": 54,
   "id": "e53ce3d1-6194-4f60-9fa8-9b62aed2d5cc",
   "metadata": {},
   "outputs": [],
   "source": [
    "product=(reduce(multiply,num))"
   ]
  },
  {
   "cell_type": "code",
   "execution_count": 55,
   "id": "9c07b3c9-d2c5-45f2-943d-7fc793807e51",
   "metadata": {},
   "outputs": [
    {
     "name": "stdout",
     "output_type": "stream",
     "text": [
      "15511210043330985984000000\n"
     ]
    }
   ],
   "source": [
    "print(product)"
   ]
  },
  {
   "cell_type": "markdown",
   "id": "f641551b-5170-4d64-a3be-c7208de4f54e",
   "metadata": {},
   "source": [
    "### Q5. Write a python program to filter the numbers in a given list that are divisible by 2 and 3 using the filter function.\n",
    "[2, 3, 6, 9, 27, 60, 90, 120, 55, 46]"
   ]
  },
  {
   "cell_type": "code",
   "execution_count": 32,
   "id": "3dd02dcd-2195-4288-b510-c9991c172778",
   "metadata": {},
   "outputs": [],
   "source": [
    "a=[2, 3, 6, 9, 27, 60, 90, 120, 55, 46]"
   ]
  },
  {
   "cell_type": "code",
   "execution_count": 35,
   "id": "51412115-6cab-42ff-8834-3c3b48c61303",
   "metadata": {},
   "outputs": [
    {
     "data": {
      "text/plain": [
       "[6, 60, 90, 120]"
      ]
     },
     "execution_count": 35,
     "metadata": {},
     "output_type": "execute_result"
    }
   ],
   "source": [
    "list(filter(lambda x:x%2==0 and x%3==0,a))"
   ]
  },
  {
   "cell_type": "markdown",
   "id": "706b133d-c536-4637-b7e8-4297165a379f",
   "metadata": {},
   "source": [
    "### Q6. Write a python program to find palindromes in the given list of strings using lambda and filter function.\n",
    "['python', 'php', 'aba', 'radar', 'level']"
   ]
  },
  {
   "cell_type": "code",
   "execution_count": 64,
   "id": "4417b2f7-710f-488f-bd44-6fde860d9d18",
   "metadata": {},
   "outputs": [],
   "source": [
    "a=['python', 'php', 'aba', 'radar', 'level']"
   ]
  },
  {
   "cell_type": "code",
   "execution_count": 68,
   "id": "65212a53-3f06-4279-99ab-f7af50849db9",
   "metadata": {},
   "outputs": [],
   "source": [
    "b=list(filter(lambda x:x==x[::-1],a))"
   ]
  },
  {
   "cell_type": "code",
   "execution_count": 69,
   "id": "c2824305-85e9-4b5a-93f6-b5fc31242655",
   "metadata": {},
   "outputs": [
    {
     "name": "stdout",
     "output_type": "stream",
     "text": [
      "['php', 'aba', 'radar', 'level']\n"
     ]
    }
   ],
   "source": [
    "print(b)"
   ]
  },
  {
   "cell_type": "code",
   "execution_count": null,
   "id": "7e681ff2-7cd9-4b59-85b5-3718605f6317",
   "metadata": {},
   "outputs": [],
   "source": []
  }
 ],
 "metadata": {
  "kernelspec": {
   "display_name": "Python 3 (ipykernel)",
   "language": "python",
   "name": "python3"
  },
  "language_info": {
   "codemirror_mode": {
    "name": "ipython",
    "version": 3
   },
   "file_extension": ".py",
   "mimetype": "text/x-python",
   "name": "python",
   "nbconvert_exporter": "python",
   "pygments_lexer": "ipython3",
   "version": "3.10.8"
  }
 },
 "nbformat": 4,
 "nbformat_minor": 5
}
